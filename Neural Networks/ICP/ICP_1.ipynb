{
  "nbformat": 4,
  "nbformat_minor": 0,
  "metadata": {
    "colab": {
      "provenance": [],
      "toc_visible": true
    },
    "kernelspec": {
      "name": "python3",
      "display_name": "Python 3"
    },
    "language_info": {
      "name": "python"
    }
  },
  "cells": [
    {
      "cell_type": "markdown",
      "source": [],
      "metadata": {
        "id": "f_h2xGPpVdS0"
      }
    },
    {
      "cell_type": "code",
      "source": [
        "# method to print full name by combining firstname and lastname\n",
        "def full__Name(fName, lName):\n",
        "    Full_name = first__Name + \" \" + last__Name\n",
        "    print(\"Your full name is \", Full_name)\n",
        "\n",
        "# method to print alternative characters of a string\n",
        "def string_alternative(str):\n",
        "    print(\"Alternative characters are \" + str[::2])\n",
        "\n",
        "if __name__ == \"__main__\":\n",
        "    first__Name = input(\"Enter your first Name: \")\n",
        "    last__Name = input(\"Enter your last Name: \")\n",
        "    full__Name(first__Name, last__Name)\n",
        "    str = input(\"Enter a string to print alternate characters: \")\n",
        "    string_alternative(str)"
      ],
      "metadata": {
        "id": "5xwEzEPlVrCa",
        "outputId": "6d2bd88e-14d9-441c-c37c-d5c2a3634b6f",
        "colab": {
          "base_uri": "https://localhost:8080/"
        }
      },
      "execution_count": null,
      "outputs": [
        {
          "output_type": "stream",
          "name": "stdout",
          "text": [
            "Enter your first Name: Sreeja Reddy\n",
            "Enter your last Name: Konda\n",
            "Your full name is  Sreeja Reddy Konda\n",
            "Enter a string to print alternate characters: Sreeja Reddy Konda\n",
            "Alternative characters are Sej ed od\n"
          ]
        }
      ]
    },
    {
      "cell_type": "code",
      "source": [
        "f = open(\"testinput.txt\",\"w\")\n",
        "f.write(\"Python Course\\n\")\n",
        "f.write(\"Deep learning course\\n\")\n",
        "f.close()\n",
        "f= open(\"testinput.txt\",\"r\")\n",
        "print(f.read())\n",
        "\n",
        "from collections import Counter\n",
        "\n",
        "# Reading input from input.txt\n",
        "with open('testinput.txt', 'r') as file:\n",
        "    lines = file.readlines()\n",
        "\n",
        "# Processing each line and count words\n",
        "wordcountperline = []\n",
        "\n",
        "for line in lines:\n",
        "    words = line.strip().split()\n",
        "    wordcountperline.append(Counter(words))\n",
        "\n",
        "# Printing word counts for each word\n",
        "print(\"  Word_Count:\")\n",
        "for word, count in Counter(word for wc in wordcountperline for word in wc).items():\n",
        "    print(f\"{word}: {count}\")\n",
        "\n",
        "# Storing the output in output.txt\n",
        "with open('testoutput.txt', 'w') as output_file:\n",
        "    for line in lines:\n",
        "        output_file.write(line)\n",
        "    output_file.write(\"Word_Count:\\n\")\n",
        "    for word, count in Counter(word for wc in wordcountperline for word in wc).items():\n",
        "        output_file.write(f\"{word}: {count}\\n\")"
      ],
      "metadata": {
        "colab": {
          "base_uri": "https://localhost:8080/"
        },
        "id": "nd8wLm4FYl0X",
        "outputId": "b0e3beca-ba07-4b84-fd96-c8d11fa13b05"
      },
      "execution_count": 27,
      "outputs": [
        {
          "output_type": "stream",
          "name": "stdout",
          "text": [
            "Python Course\n",
            "Deep learning course\n",
            "\n",
            "  Word_Count:\n",
            "Python: 1\n",
            "Course: 1\n",
            "Deep: 1\n",
            "learning: 1\n",
            "course: 1\n"
          ]
        }
      ]
    },
    {
      "cell_type": "code",
      "source": [
        "import ast\n",
        "\n",
        "def centimeters_to_inches(centimeters):\n",
        "    return centimeters / 2.54\n",
        "\n",
        "# Function to read a list of heights from user input\n",
        "def get_heights():\n",
        "    input_string = input(\"Enter a list of heights in centimeters: \")\n",
        "    try:\n",
        "        # Safely evaluate the input string to a list\n",
        "        heights = ast.literal_eval(input_string)\n",
        "        if isinstance(heights, list) and all(isinstance(height, int) for height in heights):\n",
        "            return heights\n",
        "        else:\n",
        "            raise ValueError\n",
        "    except (ValueError, SyntaxError):\n",
        "        print(\"Invalid input. Please enter a valid list of integers.\")\n",
        "        return []\n",
        "\n",
        "# Read heights from user\n",
        "heights_cm = get_heights()\n",
        "\n",
        "# Convert to inches using a nested loop\n",
        "heights_in_inches_loop = []\n",
        "for height in heights_cm:\n",
        "    inches = centimeters_to_inches(height)\n",
        "    heights_in_inches_loop.append(round(inches, 2))\n",
        "\n",
        "# Convert to inches using list comprehension\n",
        "heights_in_inches_comprehension = [round(centimeters_to_inches(height), 2) for height in heights_cm]\n",
        "\n",
        "# Output\n",
        "print(\"1. Heights in Inches (Nested Loop):\", heights_in_inches_loop)\n",
        "print(\"2. Heights in Inches (List Comprehension):\", heights_in_inches_comprehension)"
      ],
      "metadata": {
        "colab": {
          "base_uri": "https://localhost:8080/"
        },
        "id": "uqMZBlYEbler",
        "outputId": "f6b8112b-a95d-4d8a-a020-45097bf8533f"
      },
      "execution_count": 36,
      "outputs": [
        {
          "output_type": "stream",
          "name": "stdout",
          "text": [
            "Enter a list of heights in centimeters: [120, 130, 140]\n",
            "1. Heights in Inches (Nested Loop): [47.24, 51.18, 55.12]\n",
            "2. Heights in Inches (List Comprehension): [47.24, 51.18, 55.12]\n"
          ]
        }
      ]
    }
  ]
}