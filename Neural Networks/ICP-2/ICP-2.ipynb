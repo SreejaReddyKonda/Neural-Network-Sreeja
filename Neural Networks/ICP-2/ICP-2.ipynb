{
  "cells": [
    {
      "cell_type": "code",
      "execution_count": 10,
      "metadata": {
        "id": "zwFnJsE6vjf8",
        "outputId": "ce4ffbb5-3397-4b39-dab9-f8d7e38514c9",
        "colab": {
          "base_uri": "https://localhost:8080/"
        }
      },
      "outputs": [
        {
          "output_type": "stream",
          "name": "stdout",
          "text": [
            "Average Salary for Employees: 75000.0\n",
            "Average Salary for FullTimeEmployee: 80000.0\n",
            "Total Employees: 3\n"
          ]
        }
      ],
      "source": [
        "class Employee:\n",
        "    # Count the number of employees\n",
        "    employee_count = 0\n",
        "\n",
        "    def __init__(self, name, family, salary, department):\n",
        "        # Instance variables\n",
        "        self.name = name\n",
        "        self.family = family\n",
        "        self.salary = salary\n",
        "        self.department = department\n",
        "\n",
        "        # When a new employee is created\n",
        "        Employee.employee_count += 1\n",
        "\n",
        "    def average_salary(self, *salaries):\n",
        "        # Calculate and return the average salary\n",
        "        total_salary = sum(salaries) + self.salary\n",
        "        num_employees = len(salaries) + 1\n",
        "        return total_salary / num_employees\n",
        "\n",
        "class FullTimeEmployee(Employee):\n",
        "    # Additional properties for FullTimeEmployee\n",
        "\n",
        "    def __init__(self, name, family, salary, department, fulltime_property):\n",
        "        # Call the constructor of the base class (Employee)\n",
        "        super().__init__(name, family, salary, department)\n",
        "\n",
        "        # Additional property specific to FullTimeEmployee\n",
        "        self.fulltime_property = fulltime_property\n",
        "\n",
        "    def average_salary(self, *salaries):\n",
        "        # Calculate and return the average salary\n",
        "        total_salary = sum(salaries) + self.salary\n",
        "        num_employees = len(salaries) + 1\n",
        "        return total_salary / num_employees\n",
        "\n",
        "\n",
        "# Create instances of Employee class\n",
        "employee1 = Employee(\"Sreeja\", \"Konda\", 70000, \"IT\")\n",
        "employee2 = Employee(\"Julie\", \"Smith\", 80000, \"HR\")\n",
        "\n",
        "\n",
        "# Call the average_salary function for Employee class\n",
        "average_salary_employee = employee1.average_salary(employee2.salary)\n",
        "print(f\"Average Salary for Employees: {average_salary_employee}\")\n",
        "\n",
        "# Create instances of FullTimeEmployee class\n",
        "fulltime_employee = FullTimeEmployee(\"Bob\", \"Joe\", 80000, \"Finance\", \"FullTimeProperty\")\n",
        "\n",
        "# Call the average_salary function for FullTimeEmployee class\n",
        "average_salary_fulltime_employee = fulltime_employee.average_salary()\n",
        "print(f\"Average Salary for FullTimeEmployee: {average_salary_fulltime_employee}\")\n",
        "\n",
        "# Print the total count of employees\n",
        "print(f\"Total Employees: {Employee.employee_count}\")"
      ]
    },
    {
      "cell_type": "code",
      "source": [
        "import numpy as np\n",
        "\n",
        "# Create random vector of size 20 with floats in the range 1-20\n",
        "random_vector = np.random.uniform(1, 20, 20)\n",
        "\n",
        "# Reshape the array to 4 by 5\n",
        "reshaped_array = random_vector.reshape(4, 5)\n",
        "\n",
        "# Replace the max in each row by 0\n",
        "reshaped_array[reshaped_array == reshaped_array.max(axis=1, keepdims=True)] = 0\n",
        "\n",
        "reshaped_array"
      ],
      "metadata": {
        "id": "JmYOXKbPNCK_",
        "outputId": "7b6b5338-6a68-4b3a-d9f7-9ed568840a5d",
        "colab": {
          "base_uri": "https://localhost:8080/"
        }
      },
      "execution_count": 9,
      "outputs": [
        {
          "output_type": "execute_result",
          "data": {
            "text/plain": [
              "array([[ 3.74773321,  4.30459136,  3.95087555, 16.44491375,  0.        ],\n",
              "       [ 3.85969346,  8.20696962,  0.        ,  2.79792357,  6.93204385],\n",
              "       [15.15034058,  2.3918844 , 17.41152261,  0.        , 15.73649723],\n",
              "       [13.11207156,  0.        ,  7.71750655,  3.03076777,  1.06445067]])"
            ]
          },
          "metadata": {},
          "execution_count": 9
        }
      ]
    }
  ],
  "metadata": {
    "colab": {
      "name": "Welcome To Colab",
      "toc_visible": true,
      "provenance": []
    },
    "kernelspec": {
      "display_name": "Python 3",
      "name": "python3"
    }
  },
  "nbformat": 4,
  "nbformat_minor": 0
}